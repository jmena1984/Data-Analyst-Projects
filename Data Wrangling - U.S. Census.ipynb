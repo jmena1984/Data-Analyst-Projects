{
 "cells": [
  {
   "cell_type": "markdown",
   "id": "070ca699",
   "metadata": {},
   "source": [
    "# Cleaning U.S. Census Data"
   ]
  },
  {
   "cell_type": "code",
   "execution_count": 1,
   "id": "ab5a7d4c",
   "metadata": {},
   "outputs": [],
   "source": [
    "import pandas as pd\n",
    "import numpy as np\n",
    "import matplotlib.pyplot as plt\n",
    "import glob"
   ]
  },
  {
   "cell_type": "markdown",
   "id": "bcbeeb8a",
   "metadata": {},
   "source": [
    "First must extract multiple census files and join."
   ]
  },
  {
   "cell_type": "code",
   "execution_count": 2,
   "id": "d6139a06",
   "metadata": {},
   "outputs": [],
   "source": [
    "census_files = glob.glob('states*.csv')"
   ]
  },
  {
   "cell_type": "code",
   "execution_count": 3,
   "id": "11183405",
   "metadata": {},
   "outputs": [],
   "source": [
    "# loop through census files and load them into a dataframe\n",
    "df_list = []\n",
    "for file in census_files:\n",
    "    data = pd.read_csv(file)\n",
    "    df_list.append(data)\n",
    "    \n",
    "us_census = pd.concat(df_list)"
   ]
  },
  {
   "cell_type": "markdown",
   "id": "2cbcd14d",
   "metadata": {},
   "source": [
    "Inspect the data"
   ]
  },
  {
   "cell_type": "code",
   "execution_count": 4,
   "id": "983e6748",
   "metadata": {},
   "outputs": [
    {
     "data": {
      "text/plain": [
       "Index(['Unnamed: 0', 'State', 'TotalPop', 'Hispanic', 'White', 'Black',\n",
       "       'Native', 'Asian', 'Pacific', 'Income', 'GenderPop'],\n",
       "      dtype='object')"
      ]
     },
     "execution_count": 4,
     "metadata": {},
     "output_type": "execute_result"
    }
   ],
   "source": [
    "us_census.columns"
   ]
  },
  {
   "cell_type": "code",
   "execution_count": 5,
   "id": "8e16f8cd",
   "metadata": {},
   "outputs": [
    {
     "name": "stdout",
     "output_type": "stream",
     "text": [
      "<class 'pandas.core.frame.DataFrame'>\n",
      "Int64Index: 60 entries, 0 to 5\n",
      "Data columns (total 11 columns):\n",
      " #   Column      Non-Null Count  Dtype \n",
      "---  ------      --------------  ----- \n",
      " 0   Unnamed: 0  60 non-null     int64 \n",
      " 1   State       60 non-null     object\n",
      " 2   TotalPop    60 non-null     int64 \n",
      " 3   Hispanic    60 non-null     object\n",
      " 4   White       60 non-null     object\n",
      " 5   Black       60 non-null     object\n",
      " 6   Native      60 non-null     object\n",
      " 7   Asian       60 non-null     object\n",
      " 8   Pacific     55 non-null     object\n",
      " 9   Income      60 non-null     object\n",
      " 10  GenderPop   60 non-null     object\n",
      "dtypes: int64(2), object(9)\n",
      "memory usage: 5.6+ KB\n"
     ]
    }
   ],
   "source": [
    "us_census.info()"
   ]
  },
  {
   "cell_type": "code",
   "execution_count": 6,
   "id": "a0a116d7",
   "metadata": {},
   "outputs": [
    {
     "data": {
      "text/html": [
       "<div>\n",
       "<style scoped>\n",
       "    .dataframe tbody tr th:only-of-type {\n",
       "        vertical-align: middle;\n",
       "    }\n",
       "\n",
       "    .dataframe tbody tr th {\n",
       "        vertical-align: top;\n",
       "    }\n",
       "\n",
       "    .dataframe thead th {\n",
       "        text-align: right;\n",
       "    }\n",
       "</style>\n",
       "<table border=\"1\" class=\"dataframe\">\n",
       "  <thead>\n",
       "    <tr style=\"text-align: right;\">\n",
       "      <th></th>\n",
       "      <th>Unnamed: 0</th>\n",
       "      <th>State</th>\n",
       "      <th>TotalPop</th>\n",
       "      <th>Hispanic</th>\n",
       "      <th>White</th>\n",
       "      <th>Black</th>\n",
       "      <th>Native</th>\n",
       "      <th>Asian</th>\n",
       "      <th>Pacific</th>\n",
       "      <th>Income</th>\n",
       "      <th>GenderPop</th>\n",
       "    </tr>\n",
       "  </thead>\n",
       "  <tbody>\n",
       "    <tr>\n",
       "      <th>0</th>\n",
       "      <td>0</td>\n",
       "      <td>Alabama</td>\n",
       "      <td>4830620</td>\n",
       "      <td>3.75%</td>\n",
       "      <td>61.88%</td>\n",
       "      <td>31.25%</td>\n",
       "      <td>0.45%</td>\n",
       "      <td>1.05%</td>\n",
       "      <td>0.03%</td>\n",
       "      <td>$43,296.36</td>\n",
       "      <td>2341093M_2489527F</td>\n",
       "    </tr>\n",
       "    <tr>\n",
       "      <th>1</th>\n",
       "      <td>1</td>\n",
       "      <td>Alaska</td>\n",
       "      <td>733375</td>\n",
       "      <td>5.91%</td>\n",
       "      <td>60.91%</td>\n",
       "      <td>2.85%</td>\n",
       "      <td>16.39%</td>\n",
       "      <td>5.45%</td>\n",
       "      <td>1.06%</td>\n",
       "      <td>$70,354.74</td>\n",
       "      <td>384160M_349215F</td>\n",
       "    </tr>\n",
       "    <tr>\n",
       "      <th>2</th>\n",
       "      <td>2</td>\n",
       "      <td>Arizona</td>\n",
       "      <td>6641928</td>\n",
       "      <td>29.57%</td>\n",
       "      <td>57.12%</td>\n",
       "      <td>3.85%</td>\n",
       "      <td>4.36%</td>\n",
       "      <td>2.88%</td>\n",
       "      <td>0.17%</td>\n",
       "      <td>$54,207.82</td>\n",
       "      <td>3299088M_3342840F</td>\n",
       "    </tr>\n",
       "    <tr>\n",
       "      <th>3</th>\n",
       "      <td>3</td>\n",
       "      <td>Arkansas</td>\n",
       "      <td>2958208</td>\n",
       "      <td>6.22%</td>\n",
       "      <td>71.14%</td>\n",
       "      <td>18.97%</td>\n",
       "      <td>0.52%</td>\n",
       "      <td>1.14%</td>\n",
       "      <td>0.15%</td>\n",
       "      <td>$41,935.63</td>\n",
       "      <td>1451913M_1506295F</td>\n",
       "    </tr>\n",
       "    <tr>\n",
       "      <th>4</th>\n",
       "      <td>4</td>\n",
       "      <td>California</td>\n",
       "      <td>38421464</td>\n",
       "      <td>37.29%</td>\n",
       "      <td>40.22%</td>\n",
       "      <td>5.68%</td>\n",
       "      <td>0.41%</td>\n",
       "      <td>13.05%</td>\n",
       "      <td>0.35%</td>\n",
       "      <td>$67,264.78</td>\n",
       "      <td>19087135M_19334329F</td>\n",
       "    </tr>\n",
       "  </tbody>\n",
       "</table>\n",
       "</div>"
      ],
      "text/plain": [
       "   Unnamed: 0       State  TotalPop Hispanic   White   Black  Native   Asian  \\\n",
       "0           0     Alabama   4830620    3.75%  61.88%  31.25%   0.45%   1.05%   \n",
       "1           1      Alaska    733375    5.91%  60.91%   2.85%  16.39%   5.45%   \n",
       "2           2     Arizona   6641928   29.57%  57.12%   3.85%   4.36%   2.88%   \n",
       "3           3    Arkansas   2958208    6.22%  71.14%  18.97%   0.52%   1.14%   \n",
       "4           4  California  38421464   37.29%  40.22%   5.68%   0.41%  13.05%   \n",
       "\n",
       "  Pacific       Income            GenderPop  \n",
       "0   0.03%  $43,296.36     2341093M_2489527F  \n",
       "1   1.06%  $70,354.74       384160M_349215F  \n",
       "2   0.17%  $54,207.82     3299088M_3342840F  \n",
       "3   0.15%  $41,935.63     1451913M_1506295F  \n",
       "4   0.35%  $67,264.78   19087135M_19334329F  "
      ]
     },
     "execution_count": 6,
     "metadata": {},
     "output_type": "execute_result"
    }
   ],
   "source": [
    "us_census.head()"
   ]
  },
  {
   "cell_type": "markdown",
   "id": "d6ec1b4d",
   "metadata": {},
   "source": [
    "must convert `Income` column into format that is ready for conversion into numerical type"
   ]
  },
  {
   "cell_type": "code",
   "execution_count": 7,
   "id": "29bdee9c",
   "metadata": {},
   "outputs": [],
   "source": [
    "us_census.Income = us_census.Income.replace('[\\$,]', '', regex=True)\n",
    "us_census.Income = pd.to_numeric(us_census.Income)"
   ]
  },
  {
   "cell_type": "code",
   "execution_count": 8,
   "id": "017c05ab",
   "metadata": {},
   "outputs": [
    {
     "data": {
      "text/html": [
       "<div>\n",
       "<style scoped>\n",
       "    .dataframe tbody tr th:only-of-type {\n",
       "        vertical-align: middle;\n",
       "    }\n",
       "\n",
       "    .dataframe tbody tr th {\n",
       "        vertical-align: top;\n",
       "    }\n",
       "\n",
       "    .dataframe thead th {\n",
       "        text-align: right;\n",
       "    }\n",
       "</style>\n",
       "<table border=\"1\" class=\"dataframe\">\n",
       "  <thead>\n",
       "    <tr style=\"text-align: right;\">\n",
       "      <th></th>\n",
       "      <th>Unnamed: 0</th>\n",
       "      <th>State</th>\n",
       "      <th>TotalPop</th>\n",
       "      <th>Hispanic</th>\n",
       "      <th>White</th>\n",
       "      <th>Black</th>\n",
       "      <th>Native</th>\n",
       "      <th>Asian</th>\n",
       "      <th>Pacific</th>\n",
       "      <th>Income</th>\n",
       "      <th>GenderPop</th>\n",
       "    </tr>\n",
       "  </thead>\n",
       "  <tbody>\n",
       "    <tr>\n",
       "      <th>0</th>\n",
       "      <td>0</td>\n",
       "      <td>Alabama</td>\n",
       "      <td>4830620</td>\n",
       "      <td>3.75%</td>\n",
       "      <td>61.88%</td>\n",
       "      <td>31.25%</td>\n",
       "      <td>0.45%</td>\n",
       "      <td>1.05%</td>\n",
       "      <td>0.03%</td>\n",
       "      <td>43296.36</td>\n",
       "      <td>2341093M_2489527F</td>\n",
       "    </tr>\n",
       "    <tr>\n",
       "      <th>1</th>\n",
       "      <td>1</td>\n",
       "      <td>Alaska</td>\n",
       "      <td>733375</td>\n",
       "      <td>5.91%</td>\n",
       "      <td>60.91%</td>\n",
       "      <td>2.85%</td>\n",
       "      <td>16.39%</td>\n",
       "      <td>5.45%</td>\n",
       "      <td>1.06%</td>\n",
       "      <td>70354.74</td>\n",
       "      <td>384160M_349215F</td>\n",
       "    </tr>\n",
       "    <tr>\n",
       "      <th>2</th>\n",
       "      <td>2</td>\n",
       "      <td>Arizona</td>\n",
       "      <td>6641928</td>\n",
       "      <td>29.57%</td>\n",
       "      <td>57.12%</td>\n",
       "      <td>3.85%</td>\n",
       "      <td>4.36%</td>\n",
       "      <td>2.88%</td>\n",
       "      <td>0.17%</td>\n",
       "      <td>54207.82</td>\n",
       "      <td>3299088M_3342840F</td>\n",
       "    </tr>\n",
       "    <tr>\n",
       "      <th>3</th>\n",
       "      <td>3</td>\n",
       "      <td>Arkansas</td>\n",
       "      <td>2958208</td>\n",
       "      <td>6.22%</td>\n",
       "      <td>71.14%</td>\n",
       "      <td>18.97%</td>\n",
       "      <td>0.52%</td>\n",
       "      <td>1.14%</td>\n",
       "      <td>0.15%</td>\n",
       "      <td>41935.63</td>\n",
       "      <td>1451913M_1506295F</td>\n",
       "    </tr>\n",
       "    <tr>\n",
       "      <th>4</th>\n",
       "      <td>4</td>\n",
       "      <td>California</td>\n",
       "      <td>38421464</td>\n",
       "      <td>37.29%</td>\n",
       "      <td>40.22%</td>\n",
       "      <td>5.68%</td>\n",
       "      <td>0.41%</td>\n",
       "      <td>13.05%</td>\n",
       "      <td>0.35%</td>\n",
       "      <td>67264.78</td>\n",
       "      <td>19087135M_19334329F</td>\n",
       "    </tr>\n",
       "  </tbody>\n",
       "</table>\n",
       "</div>"
      ],
      "text/plain": [
       "   Unnamed: 0       State  TotalPop Hispanic   White   Black  Native   Asian  \\\n",
       "0           0     Alabama   4830620    3.75%  61.88%  31.25%   0.45%   1.05%   \n",
       "1           1      Alaska    733375    5.91%  60.91%   2.85%  16.39%   5.45%   \n",
       "2           2     Arizona   6641928   29.57%  57.12%   3.85%   4.36%   2.88%   \n",
       "3           3    Arkansas   2958208    6.22%  71.14%  18.97%   0.52%   1.14%   \n",
       "4           4  California  38421464   37.29%  40.22%   5.68%   0.41%  13.05%   \n",
       "\n",
       "  Pacific    Income            GenderPop  \n",
       "0   0.03%  43296.36    2341093M_2489527F  \n",
       "1   1.06%  70354.74      384160M_349215F  \n",
       "2   0.17%  54207.82    3299088M_3342840F  \n",
       "3   0.15%  41935.63    1451913M_1506295F  \n",
       "4   0.35%  67264.78  19087135M_19334329F  "
      ]
     },
     "execution_count": 8,
     "metadata": {},
     "output_type": "execute_result"
    }
   ],
   "source": [
    "us_census.head()"
   ]
  },
  {
   "cell_type": "markdown",
   "id": "e0f06e6c",
   "metadata": {},
   "source": [
    "The gender population column, `GenderPop`, must be split into two columns, the `Men` and `Women`."
   ]
  },
  {
   "cell_type": "code",
   "execution_count": 9,
   "id": "aa82a1e9",
   "metadata": {},
   "outputs": [],
   "source": [
    "us_census['gender_split'] = us_census.GenderPop.str.split('_')"
   ]
  },
  {
   "cell_type": "code",
   "execution_count": 10,
   "id": "a4eb0bd3",
   "metadata": {},
   "outputs": [
    {
     "data": {
      "text/plain": [
       "0      [2341093M, 2489527F]\n",
       "1        [384160M, 349215F]\n",
       "2      [3299088M, 3342840F]\n",
       "3      [1451913M, 1506295F]\n",
       "4    [19087135M, 19334329F]\n",
       "Name: gender_split, dtype: object"
      ]
     },
     "execution_count": 10,
     "metadata": {},
     "output_type": "execute_result"
    }
   ],
   "source": [
    "us_census.gender_split.head()"
   ]
  },
  {
   "cell_type": "code",
   "execution_count": 11,
   "id": "61cf028e",
   "metadata": {},
   "outputs": [
    {
     "data": {
      "text/plain": [
       "0     2341093M\n",
       "1      384160M\n",
       "2     3299088M\n",
       "3     1451913M\n",
       "4    19087135M\n",
       "Name: gender_split, dtype: object"
      ]
     },
     "execution_count": 11,
     "metadata": {},
     "output_type": "execute_result"
    }
   ],
   "source": [
    "us_census.gender_split.str[0].head()"
   ]
  },
  {
   "cell_type": "code",
   "execution_count": 12,
   "id": "c91ac50c",
   "metadata": {},
   "outputs": [],
   "source": [
    "us_census['Men'] = us_census.gender_split.str[0]\n",
    "us_census['Women'] = us_census.gender_split.str[1]"
   ]
  },
  {
   "cell_type": "markdown",
   "id": "b215248b",
   "metadata": {},
   "source": [
    "Clean up data from new columns"
   ]
  },
  {
   "cell_type": "code",
   "execution_count": 13,
   "id": "5612d39b",
   "metadata": {},
   "outputs": [],
   "source": [
    "us_census.Men = us_census.Men.replace('[M]', '', regex=True)\n",
    "us_census.Women = us_census.Women.replace('[F]', '', regex=True)"
   ]
  },
  {
   "cell_type": "markdown",
   "id": "3dcd7cad",
   "metadata": {},
   "source": [
    "Convert both columns to numerical datatypes"
   ]
  },
  {
   "cell_type": "code",
   "execution_count": 14,
   "id": "2961dbd0",
   "metadata": {},
   "outputs": [],
   "source": [
    "us_census.Men = pd.to_numeric(us_census.Men)\n",
    "us_census.Women = pd.to_numeric(us_census.Women)"
   ]
  },
  {
   "cell_type": "code",
   "execution_count": 15,
   "id": "43ae6e3a",
   "metadata": {},
   "outputs": [
    {
     "data": {
      "text/html": [
       "<div>\n",
       "<style scoped>\n",
       "    .dataframe tbody tr th:only-of-type {\n",
       "        vertical-align: middle;\n",
       "    }\n",
       "\n",
       "    .dataframe tbody tr th {\n",
       "        vertical-align: top;\n",
       "    }\n",
       "\n",
       "    .dataframe thead th {\n",
       "        text-align: right;\n",
       "    }\n",
       "</style>\n",
       "<table border=\"1\" class=\"dataframe\">\n",
       "  <thead>\n",
       "    <tr style=\"text-align: right;\">\n",
       "      <th></th>\n",
       "      <th>Unnamed: 0</th>\n",
       "      <th>State</th>\n",
       "      <th>TotalPop</th>\n",
       "      <th>Hispanic</th>\n",
       "      <th>White</th>\n",
       "      <th>Black</th>\n",
       "      <th>Native</th>\n",
       "      <th>Asian</th>\n",
       "      <th>Pacific</th>\n",
       "      <th>Income</th>\n",
       "      <th>GenderPop</th>\n",
       "      <th>gender_split</th>\n",
       "      <th>Men</th>\n",
       "      <th>Women</th>\n",
       "    </tr>\n",
       "  </thead>\n",
       "  <tbody>\n",
       "    <tr>\n",
       "      <th>0</th>\n",
       "      <td>0</td>\n",
       "      <td>Alabama</td>\n",
       "      <td>4830620</td>\n",
       "      <td>3.75%</td>\n",
       "      <td>61.88%</td>\n",
       "      <td>31.25%</td>\n",
       "      <td>0.45%</td>\n",
       "      <td>1.05%</td>\n",
       "      <td>0.03%</td>\n",
       "      <td>43296.36</td>\n",
       "      <td>2341093M_2489527F</td>\n",
       "      <td>[2341093M, 2489527F]</td>\n",
       "      <td>2341093</td>\n",
       "      <td>2489527.0</td>\n",
       "    </tr>\n",
       "    <tr>\n",
       "      <th>1</th>\n",
       "      <td>1</td>\n",
       "      <td>Alaska</td>\n",
       "      <td>733375</td>\n",
       "      <td>5.91%</td>\n",
       "      <td>60.91%</td>\n",
       "      <td>2.85%</td>\n",
       "      <td>16.39%</td>\n",
       "      <td>5.45%</td>\n",
       "      <td>1.06%</td>\n",
       "      <td>70354.74</td>\n",
       "      <td>384160M_349215F</td>\n",
       "      <td>[384160M, 349215F]</td>\n",
       "      <td>384160</td>\n",
       "      <td>349215.0</td>\n",
       "    </tr>\n",
       "    <tr>\n",
       "      <th>2</th>\n",
       "      <td>2</td>\n",
       "      <td>Arizona</td>\n",
       "      <td>6641928</td>\n",
       "      <td>29.57%</td>\n",
       "      <td>57.12%</td>\n",
       "      <td>3.85%</td>\n",
       "      <td>4.36%</td>\n",
       "      <td>2.88%</td>\n",
       "      <td>0.17%</td>\n",
       "      <td>54207.82</td>\n",
       "      <td>3299088M_3342840F</td>\n",
       "      <td>[3299088M, 3342840F]</td>\n",
       "      <td>3299088</td>\n",
       "      <td>3342840.0</td>\n",
       "    </tr>\n",
       "    <tr>\n",
       "      <th>3</th>\n",
       "      <td>3</td>\n",
       "      <td>Arkansas</td>\n",
       "      <td>2958208</td>\n",
       "      <td>6.22%</td>\n",
       "      <td>71.14%</td>\n",
       "      <td>18.97%</td>\n",
       "      <td>0.52%</td>\n",
       "      <td>1.14%</td>\n",
       "      <td>0.15%</td>\n",
       "      <td>41935.63</td>\n",
       "      <td>1451913M_1506295F</td>\n",
       "      <td>[1451913M, 1506295F]</td>\n",
       "      <td>1451913</td>\n",
       "      <td>1506295.0</td>\n",
       "    </tr>\n",
       "    <tr>\n",
       "      <th>4</th>\n",
       "      <td>4</td>\n",
       "      <td>California</td>\n",
       "      <td>38421464</td>\n",
       "      <td>37.29%</td>\n",
       "      <td>40.22%</td>\n",
       "      <td>5.68%</td>\n",
       "      <td>0.41%</td>\n",
       "      <td>13.05%</td>\n",
       "      <td>0.35%</td>\n",
       "      <td>67264.78</td>\n",
       "      <td>19087135M_19334329F</td>\n",
       "      <td>[19087135M, 19334329F]</td>\n",
       "      <td>19087135</td>\n",
       "      <td>19334329.0</td>\n",
       "    </tr>\n",
       "  </tbody>\n",
       "</table>\n",
       "</div>"
      ],
      "text/plain": [
       "   Unnamed: 0       State  TotalPop Hispanic   White   Black  Native   Asian  \\\n",
       "0           0     Alabama   4830620    3.75%  61.88%  31.25%   0.45%   1.05%   \n",
       "1           1      Alaska    733375    5.91%  60.91%   2.85%  16.39%   5.45%   \n",
       "2           2     Arizona   6641928   29.57%  57.12%   3.85%   4.36%   2.88%   \n",
       "3           3    Arkansas   2958208    6.22%  71.14%  18.97%   0.52%   1.14%   \n",
       "4           4  California  38421464   37.29%  40.22%   5.68%   0.41%  13.05%   \n",
       "\n",
       "  Pacific    Income            GenderPop            gender_split       Men  \\\n",
       "0   0.03%  43296.36    2341093M_2489527F    [2341093M, 2489527F]   2341093   \n",
       "1   1.06%  70354.74      384160M_349215F      [384160M, 349215F]    384160   \n",
       "2   0.17%  54207.82    3299088M_3342840F    [3299088M, 3342840F]   3299088   \n",
       "3   0.15%  41935.63    1451913M_1506295F    [1451913M, 1506295F]   1451913   \n",
       "4   0.35%  67264.78  19087135M_19334329F  [19087135M, 19334329F]  19087135   \n",
       "\n",
       "        Women  \n",
       "0   2489527.0  \n",
       "1    349215.0  \n",
       "2   3342840.0  \n",
       "3   1506295.0  \n",
       "4  19334329.0  "
      ]
     },
     "execution_count": 15,
     "metadata": {},
     "output_type": "execute_result"
    }
   ],
   "source": [
    "us_census.head()"
   ]
  },
  {
   "cell_type": "code",
   "execution_count": 16,
   "id": "50ffd00e",
   "metadata": {},
   "outputs": [
    {
     "data": {
      "text/plain": [
       "dtype('int64')"
      ]
     },
     "execution_count": 16,
     "metadata": {},
     "output_type": "execute_result"
    }
   ],
   "source": [
    "us_census.Men.dtype"
   ]
  },
  {
   "cell_type": "markdown",
   "id": "05b6ae4d",
   "metadata": {},
   "source": [
    "Data now ready for plotting"
   ]
  },
  {
   "cell_type": "code",
   "execution_count": 17,
   "id": "6b1d4a0a",
   "metadata": {},
   "outputs": [
    {
     "data": {
      "image/png": "[encoded data removed]",
      "text/plain": [
       "<Figure size 432x288 with 1 Axes>"
      ]
     },
     "metadata": {
      "needs_background": "light"
     },
     "output_type": "display_data"
    }
   ],
   "source": [
    "plt.scatter(us_census.Women, us_census.Income)\n",
    "plt.show()"
   ]
  },
  {
   "cell_type": "markdown",
   "id": "074f54f7",
   "metadata": {},
   "source": [
    "Check for  missing data"
   ]
  },
  {
   "cell_type": "code",
   "execution_count": 18,
   "id": "4748f075",
   "metadata": {},
   "outputs": [
    {
     "data": {
      "text/html": [
       "<div>\n",
       "<style scoped>\n",
       "    .dataframe tbody tr th:only-of-type {\n",
       "        vertical-align: middle;\n",
       "    }\n",
       "\n",
       "    .dataframe tbody tr th {\n",
       "        vertical-align: top;\n",
       "    }\n",
       "\n",
       "    .dataframe thead th {\n",
       "        text-align: right;\n",
       "    }\n",
       "</style>\n",
       "<table border=\"1\" class=\"dataframe\">\n",
       "  <thead>\n",
       "    <tr style=\"text-align: right;\">\n",
       "      <th></th>\n",
       "      <th>Unnamed: 0</th>\n",
       "      <th>State</th>\n",
       "      <th>TotalPop</th>\n",
       "      <th>Hispanic</th>\n",
       "      <th>White</th>\n",
       "      <th>Black</th>\n",
       "      <th>Native</th>\n",
       "      <th>Asian</th>\n",
       "      <th>Pacific</th>\n",
       "      <th>Income</th>\n",
       "      <th>GenderPop</th>\n",
       "      <th>gender_split</th>\n",
       "      <th>Men</th>\n",
       "      <th>Women</th>\n",
       "    </tr>\n",
       "  </thead>\n",
       "  <tbody>\n",
       "    <tr>\n",
       "      <th>0</th>\n",
       "      <td>False</td>\n",
       "      <td>False</td>\n",
       "      <td>False</td>\n",
       "      <td>False</td>\n",
       "      <td>False</td>\n",
       "      <td>False</td>\n",
       "      <td>False</td>\n",
       "      <td>False</td>\n",
       "      <td>False</td>\n",
       "      <td>False</td>\n",
       "      <td>False</td>\n",
       "      <td>False</td>\n",
       "      <td>False</td>\n",
       "      <td>False</td>\n",
       "    </tr>\n",
       "    <tr>\n",
       "      <th>1</th>\n",
       "      <td>False</td>\n",
       "      <td>False</td>\n",
       "      <td>False</td>\n",
       "      <td>False</td>\n",
       "      <td>False</td>\n",
       "      <td>False</td>\n",
       "      <td>False</td>\n",
       "      <td>False</td>\n",
       "      <td>False</td>\n",
       "      <td>False</td>\n",
       "      <td>False</td>\n",
       "      <td>False</td>\n",
       "      <td>False</td>\n",
       "      <td>False</td>\n",
       "    </tr>\n",
       "    <tr>\n",
       "      <th>2</th>\n",
       "      <td>False</td>\n",
       "      <td>False</td>\n",
       "      <td>False</td>\n",
       "      <td>False</td>\n",
       "      <td>False</td>\n",
       "      <td>False</td>\n",
       "      <td>False</td>\n",
       "      <td>False</td>\n",
       "      <td>False</td>\n",
       "      <td>False</td>\n",
       "      <td>False</td>\n",
       "      <td>False</td>\n",
       "      <td>False</td>\n",
       "      <td>False</td>\n",
       "    </tr>\n",
       "    <tr>\n",
       "      <th>3</th>\n",
       "      <td>False</td>\n",
       "      <td>False</td>\n",
       "      <td>False</td>\n",
       "      <td>False</td>\n",
       "      <td>False</td>\n",
       "      <td>False</td>\n",
       "      <td>False</td>\n",
       "      <td>False</td>\n",
       "      <td>False</td>\n",
       "      <td>False</td>\n",
       "      <td>False</td>\n",
       "      <td>False</td>\n",
       "      <td>False</td>\n",
       "      <td>False</td>\n",
       "    </tr>\n",
       "    <tr>\n",
       "      <th>4</th>\n",
       "      <td>False</td>\n",
       "      <td>False</td>\n",
       "      <td>False</td>\n",
       "      <td>False</td>\n",
       "      <td>False</td>\n",
       "      <td>False</td>\n",
       "      <td>False</td>\n",
       "      <td>False</td>\n",
       "      <td>False</td>\n",
       "      <td>False</td>\n",
       "      <td>False</td>\n",
       "      <td>False</td>\n",
       "      <td>False</td>\n",
       "      <td>False</td>\n",
       "    </tr>\n",
       "  </tbody>\n",
       "</table>\n",
       "</div>"
      ],
      "text/plain": [
       "   Unnamed: 0  State  TotalPop  Hispanic  White  Black  Native  Asian  \\\n",
       "0       False  False     False     False  False  False   False  False   \n",
       "1       False  False     False     False  False  False   False  False   \n",
       "2       False  False     False     False  False  False   False  False   \n",
       "3       False  False     False     False  False  False   False  False   \n",
       "4       False  False     False     False  False  False   False  False   \n",
       "\n",
       "   Pacific  Income  GenderPop  gender_split    Men  Women  \n",
       "0    False   False      False         False  False  False  \n",
       "1    False   False      False         False  False  False  \n",
       "2    False   False      False         False  False  False  \n",
       "3    False   False      False         False  False  False  \n",
       "4    False   False      False         False  False  False  "
      ]
     },
     "execution_count": 18,
     "metadata": {},
     "output_type": "execute_result"
    }
   ],
   "source": [
    "missing_data = us_census.isnull()\n",
    "missing_data.head()"
   ]
  },
  {
   "cell_type": "code",
   "execution_count": 19,
   "id": "f193f164",
   "metadata": {},
   "outputs": [
    {
     "name": "stdout",
     "output_type": "stream",
     "text": [
      "Unnamed: 0\n",
      "False    60\n",
      "Name: Unnamed: 0, dtype: int64\n",
      "\n",
      "State\n",
      "False    60\n",
      "Name: State, dtype: int64\n",
      "\n",
      "TotalPop\n",
      "False    60\n",
      "Name: TotalPop, dtype: int64\n",
      "\n",
      "Hispanic\n",
      "False    60\n",
      "Name: Hispanic, dtype: int64\n",
      "\n",
      "White\n",
      "False    60\n",
      "Name: White, dtype: int64\n",
      "\n",
      "Black\n",
      "False    60\n",
      "Name: Black, dtype: int64\n",
      "\n",
      "Native\n",
      "False    60\n",
      "Name: Native, dtype: int64\n",
      "\n",
      "Asian\n",
      "False    60\n",
      "Name: Asian, dtype: int64\n",
      "\n",
      "Pacific\n",
      "False    55\n",
      "True      5\n",
      "Name: Pacific, dtype: int64\n",
      "\n",
      "Income\n",
      "False    60\n",
      "Name: Income, dtype: int64\n",
      "\n",
      "GenderPop\n",
      "False    60\n",
      "Name: GenderPop, dtype: int64\n",
      "\n",
      "gender_split\n",
      "False    60\n",
      "Name: gender_split, dtype: int64\n",
      "\n",
      "Men\n",
      "False    60\n",
      "Name: Men, dtype: int64\n",
      "\n",
      "Women\n",
      "False    57\n",
      "True      3\n",
      "Name: Women, dtype: int64\n",
      "\n"
     ]
    }
   ],
   "source": [
    "for column in missing_data.columns.values.tolist():\n",
    "    print(column)\n",
    "    print(missing_data[column].value_counts())\n",
    "    print(\"\")"
   ]
  },
  {
   "cell_type": "markdown",
   "id": "b86c930e",
   "metadata": {},
   "source": [
    "`Women` column has 3 missing values. Replace missing values with `TotalPop` minus `Men` for state."
   ]
  },
  {
   "cell_type": "code",
   "execution_count": 20,
   "id": "bfbf1a26",
   "metadata": {},
   "outputs": [],
   "source": [
    "us_census.Women = us_census.Women.fillna(us_census.TotalPop - us_census.Men)"
   ]
  },
  {
   "cell_type": "code",
   "execution_count": 21,
   "id": "09e7f4e9",
   "metadata": {},
   "outputs": [
    {
     "data": {
      "text/plain": [
       "False    60\n",
       "Name: Women, dtype: int64"
      ]
     },
     "execution_count": 21,
     "metadata": {},
     "output_type": "execute_result"
    }
   ],
   "source": [
    "us_census.Women.isnull().value_counts()"
   ]
  },
  {
   "cell_type": "code",
   "execution_count": 22,
   "id": "721e4973",
   "metadata": {},
   "outputs": [],
   "source": [
    "us_census = us_census.drop_duplicates(subset=['State'])"
   ]
  },
  {
   "cell_type": "markdown",
   "id": "7c7023ae",
   "metadata": {},
   "source": [
    "Redraw scatter plot with clean data"
   ]
  },
  {
   "cell_type": "code",
   "execution_count": 23,
   "id": "7b6e6d4d",
   "metadata": {},
   "outputs": [
    {
     "data": {
      "image/png": "[encoded data removed]",
      "text/plain": [
       "<Figure size 432x288 with 1 Axes>"
      ]
     },
     "metadata": {
      "needs_background": "light"
     },
     "output_type": "display_data"
    }
   ],
   "source": [
    "plt.scatter(us_census.Women, us_census.Income)\n",
    "plt.show()"
   ]
  },
  {
   "cell_type": "code",
   "execution_count": 24,
   "id": "47b88bf2",
   "metadata": {},
   "outputs": [
    {
     "name": "stdout",
     "output_type": "stream",
     "text": [
      "Index(['Unnamed: 0', 'State', 'TotalPop', 'Hispanic', 'White', 'Black',\n",
      "       'Native', 'Asian', 'Pacific', 'Income', 'GenderPop', 'gender_split',\n",
      "       'Men', 'Women'],\n",
      "      dtype='object')\n"
     ]
    }
   ],
   "source": [
    "print(us_census.columns)"
   ]
  },
  {
   "cell_type": "markdown",
   "id": "7101e677",
   "metadata": {},
   "source": [
    "Remove '%' from race columns"
   ]
  },
  {
   "cell_type": "code",
   "execution_count": 25,
   "id": "3cd555c1",
   "metadata": {},
   "outputs": [
    {
     "data": {
      "text/plain": [
       "Index(['Hispanic', 'White', 'Black', 'Native', 'Asian', 'Pacific'], dtype='object')"
      ]
     },
     "execution_count": 25,
     "metadata": {},
     "output_type": "execute_result"
    }
   ],
   "source": [
    "us_census.columns[3:9]"
   ]
  },
  {
   "cell_type": "code",
   "execution_count": 26,
   "id": "e3b4ac6e",
   "metadata": {},
   "outputs": [],
   "source": [
    "for column in us_census.columns[3:9]:\n",
    "    us_census[column] = us_census[column].replace('[\\%]', '', regex=True)\n",
    "        "
   ]
  },
  {
   "cell_type": "code",
   "execution_count": 27,
   "id": "7ccd1946",
   "metadata": {},
   "outputs": [
    {
     "data": {
      "text/html": [
       "<div>\n",
       "<style scoped>\n",
       "    .dataframe tbody tr th:only-of-type {\n",
       "        vertical-align: middle;\n",
       "    }\n",
       "\n",
       "    .dataframe tbody tr th {\n",
       "        vertical-align: top;\n",
       "    }\n",
       "\n",
       "    .dataframe thead th {\n",
       "        text-align: right;\n",
       "    }\n",
       "</style>\n",
       "<table border=\"1\" class=\"dataframe\">\n",
       "  <thead>\n",
       "    <tr style=\"text-align: right;\">\n",
       "      <th></th>\n",
       "      <th>Unnamed: 0</th>\n",
       "      <th>State</th>\n",
       "      <th>TotalPop</th>\n",
       "      <th>Hispanic</th>\n",
       "      <th>White</th>\n",
       "      <th>Black</th>\n",
       "      <th>Native</th>\n",
       "      <th>Asian</th>\n",
       "      <th>Pacific</th>\n",
       "      <th>Income</th>\n",
       "      <th>GenderPop</th>\n",
       "      <th>gender_split</th>\n",
       "      <th>Men</th>\n",
       "      <th>Women</th>\n",
       "    </tr>\n",
       "  </thead>\n",
       "  <tbody>\n",
       "    <tr>\n",
       "      <th>0</th>\n",
       "      <td>0</td>\n",
       "      <td>Alabama</td>\n",
       "      <td>4830620</td>\n",
       "      <td>3.75</td>\n",
       "      <td>61.88</td>\n",
       "      <td>31.25</td>\n",
       "      <td>0.45</td>\n",
       "      <td>1.05</td>\n",
       "      <td>0.03</td>\n",
       "      <td>43296.36</td>\n",
       "      <td>2341093M_2489527F</td>\n",
       "      <td>[2341093M, 2489527F]</td>\n",
       "      <td>2341093</td>\n",
       "      <td>2489527.0</td>\n",
       "    </tr>\n",
       "    <tr>\n",
       "      <th>1</th>\n",
       "      <td>1</td>\n",
       "      <td>Alaska</td>\n",
       "      <td>733375</td>\n",
       "      <td>5.91</td>\n",
       "      <td>60.91</td>\n",
       "      <td>2.85</td>\n",
       "      <td>16.39</td>\n",
       "      <td>5.45</td>\n",
       "      <td>1.06</td>\n",
       "      <td>70354.74</td>\n",
       "      <td>384160M_349215F</td>\n",
       "      <td>[384160M, 349215F]</td>\n",
       "      <td>384160</td>\n",
       "      <td>349215.0</td>\n",
       "    </tr>\n",
       "    <tr>\n",
       "      <th>2</th>\n",
       "      <td>2</td>\n",
       "      <td>Arizona</td>\n",
       "      <td>6641928</td>\n",
       "      <td>29.57</td>\n",
       "      <td>57.12</td>\n",
       "      <td>3.85</td>\n",
       "      <td>4.36</td>\n",
       "      <td>2.88</td>\n",
       "      <td>0.17</td>\n",
       "      <td>54207.82</td>\n",
       "      <td>3299088M_3342840F</td>\n",
       "      <td>[3299088M, 3342840F]</td>\n",
       "      <td>3299088</td>\n",
       "      <td>3342840.0</td>\n",
       "    </tr>\n",
       "    <tr>\n",
       "      <th>3</th>\n",
       "      <td>3</td>\n",
       "      <td>Arkansas</td>\n",
       "      <td>2958208</td>\n",
       "      <td>6.22</td>\n",
       "      <td>71.14</td>\n",
       "      <td>18.97</td>\n",
       "      <td>0.52</td>\n",
       "      <td>1.14</td>\n",
       "      <td>0.15</td>\n",
       "      <td>41935.63</td>\n",
       "      <td>1451913M_1506295F</td>\n",
       "      <td>[1451913M, 1506295F]</td>\n",
       "      <td>1451913</td>\n",
       "      <td>1506295.0</td>\n",
       "    </tr>\n",
       "    <tr>\n",
       "      <th>4</th>\n",
       "      <td>4</td>\n",
       "      <td>California</td>\n",
       "      <td>38421464</td>\n",
       "      <td>37.29</td>\n",
       "      <td>40.22</td>\n",
       "      <td>5.68</td>\n",
       "      <td>0.41</td>\n",
       "      <td>13.05</td>\n",
       "      <td>0.35</td>\n",
       "      <td>67264.78</td>\n",
       "      <td>19087135M_19334329F</td>\n",
       "      <td>[19087135M, 19334329F]</td>\n",
       "      <td>19087135</td>\n",
       "      <td>19334329.0</td>\n",
       "    </tr>\n",
       "  </tbody>\n",
       "</table>\n",
       "</div>"
      ],
      "text/plain": [
       "   Unnamed: 0       State  TotalPop Hispanic  White  Black Native  Asian  \\\n",
       "0           0     Alabama   4830620     3.75  61.88  31.25   0.45   1.05   \n",
       "1           1      Alaska    733375     5.91  60.91   2.85  16.39   5.45   \n",
       "2           2     Arizona   6641928    29.57  57.12   3.85   4.36   2.88   \n",
       "3           3    Arkansas   2958208     6.22  71.14  18.97   0.52   1.14   \n",
       "4           4  California  38421464    37.29  40.22   5.68   0.41  13.05   \n",
       "\n",
       "  Pacific    Income            GenderPop            gender_split       Men  \\\n",
       "0    0.03  43296.36    2341093M_2489527F    [2341093M, 2489527F]   2341093   \n",
       "1    1.06  70354.74      384160M_349215F      [384160M, 349215F]    384160   \n",
       "2    0.17  54207.82    3299088M_3342840F    [3299088M, 3342840F]   3299088   \n",
       "3    0.15  41935.63    1451913M_1506295F    [1451913M, 1506295F]   1451913   \n",
       "4    0.35  67264.78  19087135M_19334329F  [19087135M, 19334329F]  19087135   \n",
       "\n",
       "        Women  \n",
       "0   2489527.0  \n",
       "1    349215.0  \n",
       "2   3342840.0  \n",
       "3   1506295.0  \n",
       "4  19334329.0  "
      ]
     },
     "execution_count": 27,
     "metadata": {},
     "output_type": "execute_result"
    }
   ],
   "source": [
    "us_census.head()"
   ]
  },
  {
   "cell_type": "markdown",
   "id": "50842723",
   "metadata": {},
   "source": [
    "Must convert race columns to integer form for plotting"
   ]
  },
  {
   "cell_type": "code",
   "execution_count": 28,
   "id": "c35e9afe",
   "metadata": {},
   "outputs": [],
   "source": [
    "for column in us_census.columns[3:9]:\n",
    "    us_census[column] = pd.to_numeric(us_census[column])"
   ]
  },
  {
   "cell_type": "code",
   "execution_count": 29,
   "id": "50186b1e",
   "metadata": {},
   "outputs": [
    {
     "data": {
      "text/plain": [
       "Unnamed: 0        int64\n",
       "State            object\n",
       "TotalPop          int64\n",
       "Hispanic        float64\n",
       "White           float64\n",
       "Black           float64\n",
       "Native          float64\n",
       "Asian           float64\n",
       "Pacific         float64\n",
       "Income          float64\n",
       "GenderPop        object\n",
       "gender_split     object\n",
       "Men               int64\n",
       "Women           float64\n",
       "dtype: object"
      ]
     },
     "execution_count": 29,
     "metadata": {},
     "output_type": "execute_result"
    }
   ],
   "source": [
    "us_census.dtypes"
   ]
  },
  {
   "cell_type": "markdown",
   "id": "08da43fb",
   "metadata": {},
   "source": [
    "Replace NaN values in race columns with average of column."
   ]
  },
  {
   "cell_type": "code",
   "execution_count": 30,
   "id": "20d89c1b",
   "metadata": {},
   "outputs": [],
   "source": [
    "us_census = us_census.fillna(value={'Hispanic':us_census.Hispanic.mean(), 'White':us_census.White.mean(), \n",
    "                        'Black':us_census.Black.mean(), 'Native':us_census.Native.mean(), \n",
    "                                    'Asian':us_census.Asian.mean(), 'Pacific':us_census.Pacific.mean()})"
   ]
  },
  {
   "cell_type": "code",
   "execution_count": 31,
   "id": "07c1e90b",
   "metadata": {},
   "outputs": [
    {
     "data": {
      "text/html": [
       "<div>\n",
       "<style scoped>\n",
       "    .dataframe tbody tr th:only-of-type {\n",
       "        vertical-align: middle;\n",
       "    }\n",
       "\n",
       "    .dataframe tbody tr th {\n",
       "        vertical-align: top;\n",
       "    }\n",
       "\n",
       "    .dataframe thead th {\n",
       "        text-align: right;\n",
       "    }\n",
       "</style>\n",
       "<table border=\"1\" class=\"dataframe\">\n",
       "  <thead>\n",
       "    <tr style=\"text-align: right;\">\n",
       "      <th></th>\n",
       "      <th>Unnamed: 0</th>\n",
       "      <th>State</th>\n",
       "      <th>TotalPop</th>\n",
       "      <th>Hispanic</th>\n",
       "      <th>White</th>\n",
       "      <th>Black</th>\n",
       "      <th>Native</th>\n",
       "      <th>Asian</th>\n",
       "      <th>Pacific</th>\n",
       "      <th>Income</th>\n",
       "      <th>GenderPop</th>\n",
       "      <th>gender_split</th>\n",
       "      <th>Men</th>\n",
       "      <th>Women</th>\n",
       "    </tr>\n",
       "  </thead>\n",
       "  <tbody>\n",
       "    <tr>\n",
       "      <th>0</th>\n",
       "      <td>0</td>\n",
       "      <td>Alabama</td>\n",
       "      <td>4830620</td>\n",
       "      <td>3.75</td>\n",
       "      <td>61.88</td>\n",
       "      <td>31.25</td>\n",
       "      <td>0.45</td>\n",
       "      <td>1.05</td>\n",
       "      <td>0.03</td>\n",
       "      <td>43296.36</td>\n",
       "      <td>2341093M_2489527F</td>\n",
       "      <td>[2341093M, 2489527F]</td>\n",
       "      <td>2341093</td>\n",
       "      <td>2489527.0</td>\n",
       "    </tr>\n",
       "    <tr>\n",
       "      <th>1</th>\n",
       "      <td>1</td>\n",
       "      <td>Alaska</td>\n",
       "      <td>733375</td>\n",
       "      <td>5.91</td>\n",
       "      <td>60.91</td>\n",
       "      <td>2.85</td>\n",
       "      <td>16.39</td>\n",
       "      <td>5.45</td>\n",
       "      <td>1.06</td>\n",
       "      <td>70354.74</td>\n",
       "      <td>384160M_349215F</td>\n",
       "      <td>[384160M, 349215F]</td>\n",
       "      <td>384160</td>\n",
       "      <td>349215.0</td>\n",
       "    </tr>\n",
       "    <tr>\n",
       "      <th>2</th>\n",
       "      <td>2</td>\n",
       "      <td>Arizona</td>\n",
       "      <td>6641928</td>\n",
       "      <td>29.57</td>\n",
       "      <td>57.12</td>\n",
       "      <td>3.85</td>\n",
       "      <td>4.36</td>\n",
       "      <td>2.88</td>\n",
       "      <td>0.17</td>\n",
       "      <td>54207.82</td>\n",
       "      <td>3299088M_3342840F</td>\n",
       "      <td>[3299088M, 3342840F]</td>\n",
       "      <td>3299088</td>\n",
       "      <td>3342840.0</td>\n",
       "    </tr>\n",
       "    <tr>\n",
       "      <th>3</th>\n",
       "      <td>3</td>\n",
       "      <td>Arkansas</td>\n",
       "      <td>2958208</td>\n",
       "      <td>6.22</td>\n",
       "      <td>71.14</td>\n",
       "      <td>18.97</td>\n",
       "      <td>0.52</td>\n",
       "      <td>1.14</td>\n",
       "      <td>0.15</td>\n",
       "      <td>41935.63</td>\n",
       "      <td>1451913M_1506295F</td>\n",
       "      <td>[1451913M, 1506295F]</td>\n",
       "      <td>1451913</td>\n",
       "      <td>1506295.0</td>\n",
       "    </tr>\n",
       "    <tr>\n",
       "      <th>4</th>\n",
       "      <td>4</td>\n",
       "      <td>California</td>\n",
       "      <td>38421464</td>\n",
       "      <td>37.29</td>\n",
       "      <td>40.22</td>\n",
       "      <td>5.68</td>\n",
       "      <td>0.41</td>\n",
       "      <td>13.05</td>\n",
       "      <td>0.35</td>\n",
       "      <td>67264.78</td>\n",
       "      <td>19087135M_19334329F</td>\n",
       "      <td>[19087135M, 19334329F]</td>\n",
       "      <td>19087135</td>\n",
       "      <td>19334329.0</td>\n",
       "    </tr>\n",
       "  </tbody>\n",
       "</table>\n",
       "</div>"
      ],
      "text/plain": [
       "   Unnamed: 0       State  TotalPop  Hispanic  White  Black  Native  Asian  \\\n",
       "0           0     Alabama   4830620      3.75  61.88  31.25    0.45   1.05   \n",
       "1           1      Alaska    733375      5.91  60.91   2.85   16.39   5.45   \n",
       "2           2     Arizona   6641928     29.57  57.12   3.85    4.36   2.88   \n",
       "3           3    Arkansas   2958208      6.22  71.14  18.97    0.52   1.14   \n",
       "4           4  California  38421464     37.29  40.22   5.68    0.41  13.05   \n",
       "\n",
       "   Pacific    Income            GenderPop            gender_split       Men  \\\n",
       "0     0.03  43296.36    2341093M_2489527F    [2341093M, 2489527F]   2341093   \n",
       "1     1.06  70354.74      384160M_349215F      [384160M, 349215F]    384160   \n",
       "2     0.17  54207.82    3299088M_3342840F    [3299088M, 3342840F]   3299088   \n",
       "3     0.15  41935.63    1451913M_1506295F    [1451913M, 1506295F]   1451913   \n",
       "4     0.35  67264.78  19087135M_19334329F  [19087135M, 19334329F]  19087135   \n",
       "\n",
       "        Women  \n",
       "0   2489527.0  \n",
       "1    349215.0  \n",
       "2   3342840.0  \n",
       "3   1506295.0  \n",
       "4  19334329.0  "
      ]
     },
     "execution_count": 31,
     "metadata": {},
     "output_type": "execute_result"
    }
   ],
   "source": [
    "us_census.head()"
   ]
  },
  {
   "cell_type": "code",
   "execution_count": 32,
   "id": "fcd8ee8d",
   "metadata": {},
   "outputs": [
    {
     "data": {
      "text/plain": [
       "False    51\n",
       "Name: Pacific, dtype: int64"
      ]
     },
     "execution_count": 32,
     "metadata": {},
     "output_type": "execute_result"
    }
   ],
   "source": [
    "us_census.Pacific.isnull().value_counts()"
   ]
  },
  {
   "cell_type": "code",
   "execution_count": 33,
   "id": "20278d75",
   "metadata": {},
   "outputs": [
    {
     "data": {
      "text/html": [
       "<div>\n",
       "<style scoped>\n",
       "    .dataframe tbody tr th:only-of-type {\n",
       "        vertical-align: middle;\n",
       "    }\n",
       "\n",
       "    .dataframe tbody tr th {\n",
       "        vertical-align: top;\n",
       "    }\n",
       "\n",
       "    .dataframe thead th {\n",
       "        text-align: right;\n",
       "    }\n",
       "</style>\n",
       "<table border=\"1\" class=\"dataframe\">\n",
       "  <thead>\n",
       "    <tr style=\"text-align: right;\">\n",
       "      <th></th>\n",
       "      <th>Unnamed: 0</th>\n",
       "      <th>TotalPop</th>\n",
       "      <th>Hispanic</th>\n",
       "      <th>White</th>\n",
       "      <th>Black</th>\n",
       "      <th>Native</th>\n",
       "      <th>Asian</th>\n",
       "      <th>Pacific</th>\n",
       "      <th>Income</th>\n",
       "      <th>Men</th>\n",
       "      <th>Women</th>\n",
       "    </tr>\n",
       "  </thead>\n",
       "  <tbody>\n",
       "    <tr>\n",
       "      <th>count</th>\n",
       "      <td>51.000000</td>\n",
       "      <td>5.100000e+01</td>\n",
       "      <td>51.000000</td>\n",
       "      <td>51.000000</td>\n",
       "      <td>51.000000</td>\n",
       "      <td>51.000000</td>\n",
       "      <td>51.000000</td>\n",
       "      <td>51.000000</td>\n",
       "      <td>51.000000</td>\n",
       "      <td>5.100000e+01</td>\n",
       "      <td>5.100000e+01</td>\n",
       "    </tr>\n",
       "    <tr>\n",
       "      <th>mean</th>\n",
       "      <td>2.941176</td>\n",
       "      <td>6.265067e+06</td>\n",
       "      <td>12.648039</td>\n",
       "      <td>67.261176</td>\n",
       "      <td>11.945098</td>\n",
       "      <td>1.547843</td>\n",
       "      <td>3.645098</td>\n",
       "      <td>0.307021</td>\n",
       "      <td>55922.667255</td>\n",
       "      <td>3.081423e+06</td>\n",
       "      <td>3.183644e+06</td>\n",
       "    </tr>\n",
       "    <tr>\n",
       "      <th>std</th>\n",
       "      <td>1.475287</td>\n",
       "      <td>7.017552e+06</td>\n",
       "      <td>15.697733</td>\n",
       "      <td>18.394281</td>\n",
       "      <td>11.854634</td>\n",
       "      <td>3.105255</td>\n",
       "      <td>5.293489</td>\n",
       "      <td>1.226422</td>\n",
       "      <td>11479.923759</td>\n",
       "      <td>3.464446e+06</td>\n",
       "      <td>3.553646e+06</td>\n",
       "    </tr>\n",
       "    <tr>\n",
       "      <th>min</th>\n",
       "      <td>0.000000</td>\n",
       "      <td>6.266040e+05</td>\n",
       "      <td>1.290000</td>\n",
       "      <td>0.770000</td>\n",
       "      <td>0.090000</td>\n",
       "      <td>0.000000</td>\n",
       "      <td>0.080000</td>\n",
       "      <td>0.000000</td>\n",
       "      <td>20720.540000</td>\n",
       "      <td>3.066740e+05</td>\n",
       "      <td>3.180310e+05</td>\n",
       "    </tr>\n",
       "    <tr>\n",
       "      <th>25%</th>\n",
       "      <td>2.000000</td>\n",
       "      <td>1.860392e+06</td>\n",
       "      <td>4.675000</td>\n",
       "      <td>56.805000</td>\n",
       "      <td>3.055000</td>\n",
       "      <td>0.195000</td>\n",
       "      <td>1.245000</td>\n",
       "      <td>0.030000</td>\n",
       "      <td>48358.540000</td>\n",
       "      <td>9.216185e+05</td>\n",
       "      <td>9.387740e+05</td>\n",
       "    </tr>\n",
       "    <tr>\n",
       "      <th>50%</th>\n",
       "      <td>3.000000</td>\n",
       "      <td>4.397353e+06</td>\n",
       "      <td>8.460000</td>\n",
       "      <td>71.140000</td>\n",
       "      <td>8.200000</td>\n",
       "      <td>0.360000</td>\n",
       "      <td>2.320000</td>\n",
       "      <td>0.050000</td>\n",
       "      <td>54207.820000</td>\n",
       "      <td>2.164208e+06</td>\n",
       "      <td>2.233145e+06</td>\n",
       "    </tr>\n",
       "    <tr>\n",
       "      <th>75%</th>\n",
       "      <td>4.000000</td>\n",
       "      <td>6.845525e+06</td>\n",
       "      <td>13.415000</td>\n",
       "      <td>79.635000</td>\n",
       "      <td>17.370000</td>\n",
       "      <td>1.035000</td>\n",
       "      <td>3.845000</td>\n",
       "      <td>0.140000</td>\n",
       "      <td>63889.835000</td>\n",
       "      <td>3.393406e+06</td>\n",
       "      <td>3.476838e+06</td>\n",
       "    </tr>\n",
       "    <tr>\n",
       "      <th>max</th>\n",
       "      <td>5.000000</td>\n",
       "      <td>3.842146e+07</td>\n",
       "      <td>98.890000</td>\n",
       "      <td>93.980000</td>\n",
       "      <td>51.780000</td>\n",
       "      <td>16.390000</td>\n",
       "      <td>36.590000</td>\n",
       "      <td>8.760000</td>\n",
       "      <td>78765.400000</td>\n",
       "      <td>1.908714e+07</td>\n",
       "      <td>1.933433e+07</td>\n",
       "    </tr>\n",
       "  </tbody>\n",
       "</table>\n",
       "</div>"
      ],
      "text/plain": [
       "       Unnamed: 0      TotalPop   Hispanic      White      Black     Native  \\\n",
       "count   51.000000  5.100000e+01  51.000000  51.000000  51.000000  51.000000   \n",
       "mean     2.941176  6.265067e+06  12.648039  67.261176  11.945098   1.547843   \n",
       "std      1.475287  7.017552e+06  15.697733  18.394281  11.854634   3.105255   \n",
       "min      0.000000  6.266040e+05   1.290000   0.770000   0.090000   0.000000   \n",
       "25%      2.000000  1.860392e+06   4.675000  56.805000   3.055000   0.195000   \n",
       "50%      3.000000  4.397353e+06   8.460000  71.140000   8.200000   0.360000   \n",
       "75%      4.000000  6.845525e+06  13.415000  79.635000  17.370000   1.035000   \n",
       "max      5.000000  3.842146e+07  98.890000  93.980000  51.780000  16.390000   \n",
       "\n",
       "           Asian    Pacific        Income           Men         Women  \n",
       "count  51.000000  51.000000     51.000000  5.100000e+01  5.100000e+01  \n",
       "mean    3.645098   0.307021  55922.667255  3.081423e+06  3.183644e+06  \n",
       "std     5.293489   1.226422  11479.923759  3.464446e+06  3.553646e+06  \n",
       "min     0.080000   0.000000  20720.540000  3.066740e+05  3.180310e+05  \n",
       "25%     1.245000   0.030000  48358.540000  9.216185e+05  9.387740e+05  \n",
       "50%     2.320000   0.050000  54207.820000  2.164208e+06  2.233145e+06  \n",
       "75%     3.845000   0.140000  63889.835000  3.393406e+06  3.476838e+06  \n",
       "max    36.590000   8.760000  78765.400000  1.908714e+07  1.933433e+07  "
      ]
     },
     "execution_count": 33,
     "metadata": {},
     "output_type": "execute_result"
    }
   ],
   "source": [
    "us_census.describe()"
   ]
  },
  {
   "cell_type": "markdown",
   "id": "814570c5",
   "metadata": {},
   "source": [
    "Data is now ready for plotting!"
   ]
  },
  {
   "cell_type": "code",
   "execution_count": 34,
   "id": "55730485",
   "metadata": {},
   "outputs": [
    {
     "data": {
      "image/png": "[encoded data removed]",
      "text/plain": [
       "<Figure size 432x288 with 1 Axes>"
      ]
     },
     "metadata": {
      "needs_background": "light"
     },
     "output_type": "display_data"
    },
    {
     "name": "stdout",
     "output_type": "stream",
     "text": [
      "\n"
     ]
    },
    {
     "data": {
      "image/png": "[encoded data removed]",
      "text/plain": [
       "<Figure size 432x288 with 1 Axes>"
      ]
     },
     "metadata": {
      "needs_background": "light"
     },
     "output_type": "display_data"
    },
    {
     "name": "stdout",
     "output_type": "stream",
     "text": [
      "\n"
     ]
    },
    {
     "data": {
      "image/png": "[encoded data removed]",
      "text/plain": [
       "<Figure size 432x288 with 1 Axes>"
      ]
     },
     "metadata": {
      "needs_background": "light"
     },
     "output_type": "display_data"
    },
    {
     "name": "stdout",
     "output_type": "stream",
     "text": [
      "\n"
     ]
    },
    {
     "data": {
      "image/png": "[encoded data removed]",
      "text/plain": [
       "<Figure size 432x288 with 1 Axes>"
      ]
     },
     "metadata": {
      "needs_background": "light"
     },
     "output_type": "display_data"
    },
    {
     "name": "stdout",
     "output_type": "stream",
     "text": [
      "\n"
     ]
    },
    {
     "data": {
      "image/png": "[encoded data removed]",
      "text/plain": [
       "<Figure size 432x288 with 1 Axes>"
      ]
     },
     "metadata": {
      "needs_background": "light"
     },
     "output_type": "display_data"
    },
    {
     "name": "stdout",
     "output_type": "stream",
     "text": [
      "\n"
     ]
    },
    {
     "data": {
      "image/png": "[encoded data removed]",
      "text/plain": [
       "<Figure size 432x288 with 1 Axes>"
      ]
     },
     "metadata": {
      "needs_background": "light"
     },
     "output_type": "display_data"
    },
    {
     "name": "stdout",
     "output_type": "stream",
     "text": [
      "\n"
     ]
    }
   ],
   "source": [
    "for column in us_census.columns[3:9]:\n",
    "    plt.hist(us_census[column], range=(0, 100), bins=10)\n",
    "    plt.title('Percentage of population '+ column)\n",
    "    plt.xlabel('Percent(10% increments)')\n",
    "    plt.ylabel('Total States & D.C')\n",
    "    plt.show()\n",
    "    print(\"\")"
   ]
  },
  {
   "cell_type": "markdown",
   "id": "562e188e",
   "metadata": {},
   "source": [
    "Drop column `Unnamed`"
   ]
  },
  {
   "cell_type": "code",
   "execution_count": 35,
   "id": "b5e6d151",
   "metadata": {},
   "outputs": [
    {
     "data": {
      "text/html": [
       "<div>\n",
       "<style scoped>\n",
       "    .dataframe tbody tr th:only-of-type {\n",
       "        vertical-align: middle;\n",
       "    }\n",
       "\n",
       "    .dataframe tbody tr th {\n",
       "        vertical-align: top;\n",
       "    }\n",
       "\n",
       "    .dataframe thead th {\n",
       "        text-align: right;\n",
       "    }\n",
       "</style>\n",
       "<table border=\"1\" class=\"dataframe\">\n",
       "  <thead>\n",
       "    <tr style=\"text-align: right;\">\n",
       "      <th></th>\n",
       "      <th>State</th>\n",
       "      <th>TotalPop</th>\n",
       "      <th>Hispanic</th>\n",
       "      <th>White</th>\n",
       "      <th>Black</th>\n",
       "      <th>Native</th>\n",
       "      <th>Asian</th>\n",
       "      <th>Pacific</th>\n",
       "      <th>Income</th>\n",
       "      <th>GenderPop</th>\n",
       "      <th>gender_split</th>\n",
       "      <th>Men</th>\n",
       "      <th>Women</th>\n",
       "    </tr>\n",
       "  </thead>\n",
       "  <tbody>\n",
       "    <tr>\n",
       "      <th>0</th>\n",
       "      <td>Alabama</td>\n",
       "      <td>4830620</td>\n",
       "      <td>3.75</td>\n",
       "      <td>61.88</td>\n",
       "      <td>31.25</td>\n",
       "      <td>0.45</td>\n",
       "      <td>1.05</td>\n",
       "      <td>0.03</td>\n",
       "      <td>43296.36</td>\n",
       "      <td>2341093M_2489527F</td>\n",
       "      <td>[2341093M, 2489527F]</td>\n",
       "      <td>2341093</td>\n",
       "      <td>2489527.0</td>\n",
       "    </tr>\n",
       "    <tr>\n",
       "      <th>1</th>\n",
       "      <td>Alaska</td>\n",
       "      <td>733375</td>\n",
       "      <td>5.91</td>\n",
       "      <td>60.91</td>\n",
       "      <td>2.85</td>\n",
       "      <td>16.39</td>\n",
       "      <td>5.45</td>\n",
       "      <td>1.06</td>\n",
       "      <td>70354.74</td>\n",
       "      <td>384160M_349215F</td>\n",
       "      <td>[384160M, 349215F]</td>\n",
       "      <td>384160</td>\n",
       "      <td>349215.0</td>\n",
       "    </tr>\n",
       "    <tr>\n",
       "      <th>2</th>\n",
       "      <td>Arizona</td>\n",
       "      <td>6641928</td>\n",
       "      <td>29.57</td>\n",
       "      <td>57.12</td>\n",
       "      <td>3.85</td>\n",
       "      <td>4.36</td>\n",
       "      <td>2.88</td>\n",
       "      <td>0.17</td>\n",
       "      <td>54207.82</td>\n",
       "      <td>3299088M_3342840F</td>\n",
       "      <td>[3299088M, 3342840F]</td>\n",
       "      <td>3299088</td>\n",
       "      <td>3342840.0</td>\n",
       "    </tr>\n",
       "    <tr>\n",
       "      <th>3</th>\n",
       "      <td>Arkansas</td>\n",
       "      <td>2958208</td>\n",
       "      <td>6.22</td>\n",
       "      <td>71.14</td>\n",
       "      <td>18.97</td>\n",
       "      <td>0.52</td>\n",
       "      <td>1.14</td>\n",
       "      <td>0.15</td>\n",
       "      <td>41935.63</td>\n",
       "      <td>1451913M_1506295F</td>\n",
       "      <td>[1451913M, 1506295F]</td>\n",
       "      <td>1451913</td>\n",
       "      <td>1506295.0</td>\n",
       "    </tr>\n",
       "    <tr>\n",
       "      <th>4</th>\n",
       "      <td>California</td>\n",
       "      <td>38421464</td>\n",
       "      <td>37.29</td>\n",
       "      <td>40.22</td>\n",
       "      <td>5.68</td>\n",
       "      <td>0.41</td>\n",
       "      <td>13.05</td>\n",
       "      <td>0.35</td>\n",
       "      <td>67264.78</td>\n",
       "      <td>19087135M_19334329F</td>\n",
       "      <td>[19087135M, 19334329F]</td>\n",
       "      <td>19087135</td>\n",
       "      <td>19334329.0</td>\n",
       "    </tr>\n",
       "  </tbody>\n",
       "</table>\n",
       "</div>"
      ],
      "text/plain": [
       "        State  TotalPop  Hispanic  White  Black  Native  Asian  Pacific  \\\n",
       "0     Alabama   4830620      3.75  61.88  31.25    0.45   1.05     0.03   \n",
       "1      Alaska    733375      5.91  60.91   2.85   16.39   5.45     1.06   \n",
       "2     Arizona   6641928     29.57  57.12   3.85    4.36   2.88     0.17   \n",
       "3    Arkansas   2958208      6.22  71.14  18.97    0.52   1.14     0.15   \n",
       "4  California  38421464     37.29  40.22   5.68    0.41  13.05     0.35   \n",
       "\n",
       "     Income            GenderPop            gender_split       Men       Women  \n",
       "0  43296.36    2341093M_2489527F    [2341093M, 2489527F]   2341093   2489527.0  \n",
       "1  70354.74      384160M_349215F      [384160M, 349215F]    384160    349215.0  \n",
       "2  54207.82    3299088M_3342840F    [3299088M, 3342840F]   3299088   3342840.0  \n",
       "3  41935.63    1451913M_1506295F    [1451913M, 1506295F]   1451913   1506295.0  \n",
       "4  67264.78  19087135M_19334329F  [19087135M, 19334329F]  19087135  19334329.0  "
      ]
     },
     "execution_count": 35,
     "metadata": {},
     "output_type": "execute_result"
    }
   ],
   "source": [
    "us_census.drop('Unnamed: 0', axis = 1, inplace=True)\n",
    "us_census.head()"
   ]
  },
  {
   "cell_type": "markdown",
   "id": "b41eac87",
   "metadata": {},
   "source": [
    "Data has been wrangled and cleaned. Ready for export."
   ]
  },
  {
   "cell_type": "code",
   "execution_count": 36,
   "id": "91b7bb26",
   "metadata": {},
   "outputs": [],
   "source": [
    "us_census.to_csv('clean_us_census.csv')"
   ]
  }
 ],
 "metadata": {
  "kernelspec": {
   "display_name": "Python 3 (ipykernel)",
   "language": "python",
   "name": "python3"
  },
  "language_info": {
   "codemirror_mode": {
    "name": "ipython",
    "version": 3
   },
   "file_extension": ".py",
   "mimetype": "text/x-python",
   "name": "python",
   "nbconvert_exporter": "python",
   "pygments_lexer": "ipython3",
   "version": "3.9.7"
  }
 },
 "nbformat": 4,
 "nbformat_minor": 5
}
